{
 "cells": [
  {
   "cell_type": "code",
   "execution_count": 1,
   "id": "3d70472a-78d7-4bd8-a2bd-52a336d318e8",
   "metadata": {},
   "outputs": [
    {
     "name": "stderr",
     "output_type": "stream",
     "text": [
      "/Users/lsaetta/miniforge3/envs/oci_genai2025/lib/python3.11/site-packages/tqdm/auto.py:21: TqdmWarning: IProgress not found. Please update jupyter and ipywidgets. See https://ipywidgets.readthedocs.io/en/stable/user_install.html\n",
      "  from .autonotebook import tqdm as notebook_tqdm\n"
     ]
    }
   ],
   "source": [
    "import random\n",
    "import json\n",
    "from tqdm import tqdm\n",
    "\n",
    "from langchain.document_loaders import PyPDFLoader\n",
    "from langchain.text_splitter import RecursiveCharacterTextSplitter\n",
    "from langchain_community.chat_models import ChatOCIGenAI\n",
    "from langchain.prompts import PromptTemplate\n",
    "from langchain.schema import HumanMessage\n",
    "\n",
    "from oci_aqua_embeddings import OCIAquaEmbeddings\n",
    "from langchain_community.vectorstores import FAISS"
   ]
  },
  {
   "cell_type": "code",
   "execution_count": 2,
   "id": "83d73096-3581-4ace-8737-ccc99dd97cf0",
   "metadata": {},
   "outputs": [],
   "source": [
    "from config import (\n",
    "    AUTH,\n",
    "    SERVICE_ENDPOINT,\n",
    "    MAX_TOKENS,\n",
    "    TEMPERATURE,\n",
    "    COMPARTMENT_ID,\n",
    ")\n",
    "\n",
    "N_QUESTIONS = 50\n",
    "# Set seed for reproducibility\n",
    "random.seed(42)\n",
    "\n",
    "CHUNK_SIZE = 3000\n",
    "CHUNK_OVERLAP = 100\n",
    "\n",
    "# files\n",
    "PDF_PATH = \"ai-4-italy.pdf\"\n",
    "OUTPUT_FILE = \"questions.json\"\n",
    "\n",
    "# for similarity search\n",
    "TOP_K = 6"
   ]
  },
  {
   "cell_type": "code",
   "execution_count": 3,
   "id": "965421a3-252d-4f67-adaf-547aa149a8f3",
   "metadata": {},
   "outputs": [],
   "source": [
    "# LLM is used to generate questions\n",
    "def get_llm():\n",
    "    \"\"\"\n",
    "    Initialize and return an instance of ChatOCIGenAI with the specified configuration.\n",
    "\n",
    "    Returns:\n",
    "        ChatOCIGenAI: An instance of the OCI GenAI language model.\n",
    "    \"\"\"\n",
    "    _llm = ChatOCIGenAI(\n",
    "        auth_type=AUTH,\n",
    "        model_id=\"meta.llama-3.1-70b-instruct\",\n",
    "        service_endpoint=SERVICE_ENDPOINT,\n",
    "        compartment_id=COMPARTMENT_ID,\n",
    "        is_stream=True,\n",
    "        model_kwargs={\"temperature\": TEMPERATURE, \"max_tokens\": MAX_TOKENS},\n",
    "    )\n",
    "    return _llm\n",
    "\n",
    "\n",
    "# Function for processing a single question-chunk pair\n",
    "def process_question_chunk_with_mrr(question, chunk, vectorstore, top_k=TOP_K):\n",
    "    # Perform similarity search and compute hit_ratio and MRR\n",
    "    search_result = vectorstore.similarity_search(question, k=top_k)\n",
    "    # Extract expected chunk number\n",
    "    chunk_num_expected = chunk.metadata[\"chunk_num\"]\n",
    "\n",
    "    # Check for hit and compute reciprocal rank\n",
    "    for rank, item in enumerate(search_result, start=1):\n",
    "        if item.metadata[\"chunk_num\"] == chunk_num_expected:\n",
    "            return True, 1 / rank  # Hit, Reciprocal Rank\n",
    "\n",
    "    return False, 0  # No hit, MRR is 0"
   ]
  },
  {
   "cell_type": "markdown",
   "id": "0a942847-2f31-402e-9c68-4100f3e2e13a",
   "metadata": {},
   "source": [
    "#### Embeddings"
   ]
  },
  {
   "cell_type": "code",
   "execution_count": 4,
   "id": "17263812-76ad-4c2a-9b5e-73e57e60e3a6",
   "metadata": {},
   "outputs": [],
   "source": [
    "BASE_URL = \"https://modeldeployment.eu-frankfurt-1.oci.customer-oci.com\"\n",
    "ENDPOINT = f\"{BASE_URL}/ocid1.datasciencemodeldeployment.oc1.eu-frankfurt-1.amaaaaaa2xxap7yagq4z62toy5toj6fijrzi6deswanqy2l3yik7mmifix2a/predict\""
   ]
  },
  {
   "cell_type": "code",
   "execution_count": 5,
   "id": "f5587738-ee02-4ae0-9b95-d7a324953849",
   "metadata": {},
   "outputs": [],
   "source": [
    "embed_model = OCIAquaEmbeddings(endpoint=ENDPOINT)"
   ]
  },
  {
   "cell_type": "markdown",
   "id": "57995da2-22fd-4355-a2d7-784d14780c1a",
   "metadata": {},
   "source": [
    "#### Load chunks"
   ]
  },
  {
   "cell_type": "code",
   "execution_count": 6,
   "id": "ca6b0354-bc7c-4c6d-aa24-fcdcd501866d",
   "metadata": {},
   "outputs": [],
   "source": [
    "# load the pdf\n",
    "loader = PyPDFLoader(PDF_PATH)\n",
    "documents = loader.load()"
   ]
  },
  {
   "cell_type": "code",
   "execution_count": 7,
   "id": "a3e382d3-777b-4918-9220-c58d78fc920a",
   "metadata": {},
   "outputs": [],
   "source": [
    "# Step 2: split in chunks\n",
    "text_splitter = RecursiveCharacterTextSplitter(\n",
    "    chunk_size=CHUNK_SIZE, chunk_overlap=CHUNK_OVERLAP\n",
    ")\n",
    "chunks = text_splitter.split_documents(documents)"
   ]
  },
  {
   "cell_type": "code",
   "execution_count": 8,
   "id": "8ebb1bd1-bc89-434e-9a53-64a0c2b245b1",
   "metadata": {},
   "outputs": [],
   "source": [
    "for i, chunk in enumerate(chunks):\n",
    "    chunk.metadata[\"chunk_num\"] = i"
   ]
  },
  {
   "cell_type": "markdown",
   "id": "c7d7189e-817d-47f7-b2e6-9d4b426e4ec2",
   "metadata": {},
   "source": [
    "#### Load vector store"
   ]
  },
  {
   "cell_type": "code",
   "execution_count": 9,
   "id": "57e2d666-3c7d-4f6b-b749-c10b01a877a2",
   "metadata": {},
   "outputs": [
    {
     "name": "stdout",
     "output_type": "stream",
     "text": [
      "Embedding and loading vector store...\n"
     ]
    },
    {
     "name": "stderr",
     "output_type": "stream",
     "text": [
      "Processing batches...: 100%|███████████████████████████████████████████████████████████████████████████████████████████████████████████████████████| 7/7 [00:33<00:00,  4.72s/it]\n"
     ]
    }
   ],
   "source": [
    "print(\"Embedding and loading vector store...\")\n",
    "vector_store = FAISS.from_documents(chunks, embed_model)"
   ]
  },
  {
   "cell_type": "markdown",
   "id": "642575f7-d607-431c-aada-b914b3fc87d4",
   "metadata": {},
   "source": [
    "#### Generate questions"
   ]
  },
  {
   "cell_type": "code",
   "execution_count": null,
   "id": "7eaf8c8c-ad3d-4f83-8b15-c8be1fffaf2e",
   "metadata": {},
   "outputs": [],
   "source": [
    "# Step 3: Randomly select N_QUESTIONS chunks\n",
    "selected_chunks = random.sample(chunks, min(N_QUESTIONS, len(chunks)))"
   ]
  },
  {
   "cell_type": "code",
   "execution_count": null,
   "id": "a09aaccf-7271-44b1-8e2f-b06ac3a50071",
   "metadata": {},
   "outputs": [],
   "source": [
    "LANG = \"italian\"\n",
    "\n",
    "prompt_template = PromptTemplate(\n",
    "    input_variables=[\"content\"],\n",
    "    template=\"\"\"Based only on the following content, generate a thoughtful question in {language} language:\\n\\n{content}. \n",
    "    Report only the question.\"\"\",\n",
    ")\n",
    "\n",
    "chat_model = get_llm()"
   ]
  },
  {
   "cell_type": "code",
   "execution_count": null,
   "id": "782bfcc0-f9e3-487d-9dfd-e3713f7685e3",
   "metadata": {},
   "outputs": [],
   "source": [
    "questions = []\n",
    "\n",
    "for chunk in tqdm(selected_chunks):\n",
    "    chunk_content = chunk.page_content\n",
    "    prompt = prompt_template.format(content=chunk_content, language=LANG)\n",
    "\n",
    "    response = chat_model.invoke([HumanMessage(content=prompt)])\n",
    "\n",
    "    questions.append(response.content)"
   ]
  },
  {
   "cell_type": "code",
   "execution_count": null,
   "id": "bb968e94-0192-41fa-832b-ba1e6fdf6312",
   "metadata": {},
   "outputs": [],
   "source": [
    "data_to_save = []\n",
    "\n",
    "for question, chunk in zip(questions, selected_chunks):\n",
    "    entry = {\n",
    "        \"chunk_num\": chunk.metadata[\"chunk_num\"],\n",
    "        \"page_num\": chunk.metadata[\"page\"],\n",
    "        \"question\": question,\n",
    "    }\n",
    "    data_to_save.append(entry)"
   ]
  },
  {
   "cell_type": "code",
   "execution_count": null,
   "id": "eb4b3687-5f93-4eb8-9da7-864487f1b588",
   "metadata": {},
   "outputs": [],
   "source": [
    "# Save in JSON\n",
    "\n",
    "with open(OUTPUT_FILE, \"w\", encoding=\"utf-8\") as file:\n",
    "    json.dump(data_to_save, file, indent=4)\n",
    "\n",
    "print(f\"Data saved in {OUTPUT_FILE}\")"
   ]
  },
  {
   "cell_type": "markdown",
   "id": "f9da1ae0-fc95-409d-b33c-00eaee4dc69a",
   "metadata": {},
   "source": [
    "#### Similarity Search and computation of metrics"
   ]
  },
  {
   "cell_type": "code",
   "execution_count": null,
   "id": "78504898-be0a-44de-85fa-a7b18c20846f",
   "metadata": {},
   "outputs": [],
   "source": [
    "hit_at_top_k = 0\n",
    "reciprocal_ranks = []\n",
    "\n",
    "# Main loop to compute Hit Ratio and MRR\n",
    "for question, chunk in tqdm(\n",
    "    zip(questions, selected_chunks), total=len(questions), desc=\"Processing Questions\"\n",
    "):\n",
    "\n",
    "    hit, rr = process_question_chunk_with_mrr(question, chunk, vector_store)\n",
    "\n",
    "    if hit:\n",
    "        hit_at_top_k += 1\n",
    "    reciprocal_ranks.append(rr)"
   ]
  },
  {
   "cell_type": "code",
   "execution_count": null,
   "id": "b761c7bc-a561-47dd-8aca-be88d37e37f4",
   "metadata": {},
   "outputs": [],
   "source": [
    "# Compute final metrics\n",
    "total_queries = len(questions)\n",
    "hit_ratio = hit_at_top_k / total_queries\n",
    "mrr = sum(reciprocal_ranks) / total_queries\n",
    "\n",
    "print(f\"Language: {LANG}\")\n",
    "print(f\"Hit Ratio @ Top-{TOP_K}: {hit_ratio:.3f}\")\n",
    "print(f\"Mean Reciprocal Rank (MRR): {mrr:.3f}\")"
   ]
  },
  {
   "cell_type": "code",
   "execution_count": null,
   "id": "803d5feb-fb56-45be-beab-9ab2141fcea1",
   "metadata": {},
   "outputs": [],
   "source": []
  }
 ],
 "metadata": {
  "kernelspec": {
   "display_name": "Python 3 (ipykernel)",
   "language": "python",
   "name": "python3"
  },
  "language_info": {
   "codemirror_mode": {
    "name": "ipython",
    "version": 3
   },
   "file_extension": ".py",
   "mimetype": "text/x-python",
   "name": "python",
   "nbconvert_exporter": "python",
   "pygments_lexer": "ipython3",
   "version": "3.11.0"
  }
 },
 "nbformat": 4,
 "nbformat_minor": 5
}
